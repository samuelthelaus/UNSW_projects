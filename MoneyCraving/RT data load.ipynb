{
 "cells": [
  {
   "cell_type": "code",
   "execution_count": 1,
   "metadata": {},
   "outputs": [
    {
     "ename": "FileNotFoundError",
     "evalue": "[WinError 3] The system cannot find the path specified: '/Users/sam/Google Drive/Elise Projects/Picking pennies/Data/DATA_all_experiments'",
     "output_type": "error",
     "traceback": [
      "\u001b[1;31m---------------------------------------------------------------------------\u001b[0m",
      "\u001b[1;31mFileNotFoundError\u001b[0m                         Traceback (most recent call last)",
      "\u001b[1;32m<ipython-input-1-f0865c2c5b78>\u001b[0m in \u001b[0;36m<module>\u001b[1;34m\u001b[0m\n\u001b[0;32m     13\u001b[0m \u001b[0mempty\u001b[0m \u001b[1;33m=\u001b[0m \u001b[0mpd\u001b[0m\u001b[1;33m.\u001b[0m\u001b[0mDataFrame\u001b[0m\u001b[1;33m(\u001b[0m\u001b[0mcolumns\u001b[0m \u001b[1;33m=\u001b[0m \u001b[0mcolumn_names\u001b[0m\u001b[1;33m)\u001b[0m\u001b[1;33m\u001b[0m\u001b[1;33m\u001b[0m\u001b[0m\n\u001b[0;32m     14\u001b[0m \u001b[1;33m\u001b[0m\u001b[0m\n\u001b[1;32m---> 15\u001b[1;33m \u001b[1;32mfor\u001b[0m \u001b[0mexp\u001b[0m \u001b[1;32min\u001b[0m \u001b[1;33m[\u001b[0m\u001b[0mf\u001b[0m\u001b[1;33m.\u001b[0m\u001b[0mname\u001b[0m \u001b[1;32mfor\u001b[0m \u001b[0mf\u001b[0m \u001b[1;32min\u001b[0m \u001b[0mos\u001b[0m\u001b[1;33m.\u001b[0m\u001b[0mscandir\u001b[0m\u001b[1;33m(\u001b[0m\u001b[0mdata_path\u001b[0m\u001b[1;33m)\u001b[0m \u001b[1;32mif\u001b[0m \u001b[0mf\u001b[0m\u001b[1;33m.\u001b[0m\u001b[0mis_dir\u001b[0m\u001b[1;33m(\u001b[0m\u001b[1;33m)\u001b[0m\u001b[1;33m]\u001b[0m\u001b[1;33m:\u001b[0m\u001b[1;33m\u001b[0m\u001b[1;33m\u001b[0m\u001b[0m\n\u001b[0m\u001b[0;32m     16\u001b[0m     \u001b[1;32mfor\u001b[0m \u001b[0msub\u001b[0m \u001b[1;32min\u001b[0m \u001b[0mos\u001b[0m\u001b[1;33m.\u001b[0m\u001b[0mlistdir\u001b[0m\u001b[1;33m(\u001b[0m\u001b[0mos\u001b[0m\u001b[1;33m.\u001b[0m\u001b[0mpath\u001b[0m\u001b[1;33m.\u001b[0m\u001b[0mjoin\u001b[0m\u001b[1;33m(\u001b[0m\u001b[0mdata_path\u001b[0m \u001b[1;33m+\u001b[0m \u001b[1;34m'/'\u001b[0m \u001b[1;33m+\u001b[0m \u001b[0mexp\u001b[0m\u001b[1;33m)\u001b[0m\u001b[1;33m)\u001b[0m\u001b[1;33m:\u001b[0m\u001b[1;33m\u001b[0m\u001b[1;33m\u001b[0m\u001b[0m\n\u001b[0;32m     17\u001b[0m         \u001b[0mx\u001b[0m \u001b[1;33m=\u001b[0m \u001b[0mos\u001b[0m\u001b[1;33m.\u001b[0m\u001b[0mpath\u001b[0m\u001b[1;33m.\u001b[0m\u001b[0mjoin\u001b[0m\u001b[1;33m(\u001b[0m\u001b[0mdata_path\u001b[0m \u001b[1;33m+\u001b[0m \u001b[1;34m'/'\u001b[0m \u001b[1;33m+\u001b[0m \u001b[0mexp\u001b[0m \u001b[1;33m+\u001b[0m \u001b[1;34m'/'\u001b[0m \u001b[1;33m+\u001b[0m \u001b[0msub\u001b[0m\u001b[1;33m)\u001b[0m\u001b[1;33m\u001b[0m\u001b[1;33m\u001b[0m\u001b[0m\n",
      "\u001b[1;31mFileNotFoundError\u001b[0m: [WinError 3] The system cannot find the path specified: '/Users/sam/Google Drive/Elise Projects/Picking pennies/Data/DATA_all_experiments'"
     ]
    }
   ],
   "source": [
    "import numpy as np\n",
    "import pandas as pd\n",
    "import os\n",
    "import glob\n",
    "\n",
    "data_path = # Insert data folder path\n",
    "\n",
    "column_names = ['Trial Number', 'Shot', 'Apprentice', 'Missed', 'Bet', 'Outcome', \n",
    "                'Wealth', 'RT', 'Guess', 'Confidence', 'Outcome_Guess', \n",
    "                'Sample ID', 'Experiment']\n",
    "\n",
    "empty = pd.DataFrame(columns = column_names)\n",
    "\n",
    "for exp in [f.name for f in os.scandir(data_path) if f.is_dir()]:\n",
    "    for sub in os.listdir(os.path.join(data_path + '/' + exp)):\n",
    "        x = os.path.join(data_path + '/' + exp + '/' + sub)\n",
    "        temp = pd.read_excel(x, sheet_name = 'results', header = None)\n",
    "        \n",
    "        if exp in ['DATA_Experiment2', 'DATA_Experiment3', 'DATA_Experiment5']:\n",
    "            if len(temp.columns) > 11:\n",
    "                temp = temp.iloc[:,[0, 1] + list(range(3, 12))]\n",
    "                temp.columns = column_names[:11]\n",
    "            else:\n",
    "                temp = temp.iloc[:,[0, 1] + list(range(3, 9))]\n",
    "                temp.columns = column_names[:8]\n",
    "                temp[['Guess', 'Confidence', 'Outcome_Guess']] =  pd.DataFrame([[np.nan, np.nan, np.nan]], index=temp.index)\n",
    "        else:\n",
    "            if(temp.shape[1] > 7):\n",
    "                temp = temp.iloc[:,[0, 1] + list(range(3, 8))]\n",
    "                temp.columns = column_names[:7]\n",
    "                temp[['RT', 'Guess', 'Confidence', 'Outcome_Guess']] =  pd.DataFrame([[np.nan, np.nan, np.nan, np.nan]], index=temp.index)\n",
    "            else:\n",
    "                temp.columns = column_names[:7]\n",
    "                temp[['RT', 'Guess', 'Confidence', 'Outcome_Guess']] =  pd.DataFrame([[np.nan, np.nan, np.nan, np.nan]], index=temp.index)\n",
    "        \n",
    "        temp['Sample ID'] = sub.split('.xls', 1)[0]\n",
    "        temp['Sample ID'] = temp['Sample ID'].astype('int32')\n",
    "        temp['Experiment'] = exp.split('DATA_', 1)[1]\n",
    "            \n",
    "        empty = pd.concat([empty, temp])\n",
    "\n",
    "\n",
    "empty.to_csv(data_path + '/RT_Data_all_withRT.csv', index = False, na_rep='NA')"
   ]
  }
 ],
 "metadata": {
  "kernelspec": {
   "display_name": "Python 3",
   "language": "python",
   "name": "python3"
  },
  "language_info": {
   "codemirror_mode": {
    "name": "ipython",
    "version": 3
   },
   "file_extension": ".py",
   "mimetype": "text/x-python",
   "name": "python",
   "nbconvert_exporter": "python",
   "pygments_lexer": "ipython3",
   "version": "3.7.4"
  }
 },
 "nbformat": 4,
 "nbformat_minor": 4
}
