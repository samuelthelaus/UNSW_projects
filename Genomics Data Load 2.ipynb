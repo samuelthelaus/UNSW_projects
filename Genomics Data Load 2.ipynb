{
 "cells": [
  {
   "cell_type": "code",
   "execution_count": 70,
   "metadata": {},
   "outputs": [],
   "source": [
    "import numpy as np\n",
    "import pandas as pd\n",
    "import os\n",
    "import glob\n",
    "\n",
    "data_path = 'C:/Users/samuel/Google Drive/Elise Projects/Genomics'\n",
    "\n",
    "df = pd.read_excel(os.path.join(data_path + '/Data/', 'Bowman Genotyping Compilation_FIX.xlsx'))\n",
    "\n",
    "data_path_2 = os.path.join(data_path + '/', 'penny_pickers_6_different_definitions')\n",
    "\n",
    "new_cols = ['7m_pp', '7m_con', '7m_m_pp', '7m_m_con', '8m_pp', '8m_con', '8m_m_pp', '8m_m_con',\n",
    "           '9m_pp', '9m_con', '9m_m_pp', '9m_m_con']\n",
    "\n",
    "for col in new_cols:\n",
    "    df[col] = np.nan\n",
    "\n",
    "\n",
    "df['excluded'] = 0\n",
    "#df\n",
    "\n",
    "col = 0\n",
    "for i, sheet in enumerate(os.listdir(data_path_2)):\n",
    "    df_2 = pd.read_excel(os.path.join(data_path_2 + '/', sheet))\n",
    "    df_2['FileName'] = [i.split('.xls', 1)[0] for i in df_2['FileName']]\n",
    "    \n",
    "    if i == 0:\n",
    "        splits = [i.split('/', 1) for i in df_2['FileName']]\n",
    "        df_2['FileName'] = [item[1].split('_', 1)[0] for item in splits]\n",
    "        \n",
    "        for j, jtem in enumerate(splits):\n",
    "            if 'excluded' in jtem[0]:\n",
    "                df.loc[df['Sample ID'] == jtem[1].split('_', 1)[0], 'excluded'] = 1\n",
    "    else:\n",
    "        df_2['FileName'] = [i.split('/', 1)[1].split('_', 1)[0] for i in df_2['FileName']]\n",
    "    \n",
    "    \n",
    "    for k, participant in enumerate(df_2['FileName']):\n",
    "        \n",
    "        if df['Sample ID'].str.contains(participant).any():\n",
    "            df.loc[df['Sample ID'] == participant, new_cols[col]] = df_2.iloc[k, 1]\n",
    "            df.loc[df['Sample ID'] == participant, new_cols[col + 1]] = df_2.iloc[k, 2]\n",
    "            \n",
    "    col += 2\n",
    "\n",
    "\n",
    "\n",
    "df.to_csv(data_path + '/Data/' + '/data_new_split200518.csv', index = False, na_rep='NA')"
   ]
  },
  {
   "cell_type": "code",
   "execution_count": null,
   "metadata": {},
   "outputs": [],
   "source": []
  }
 ],
 "metadata": {
  "kernelspec": {
   "display_name": "Python 3",
   "language": "python",
   "name": "python3"
  },
  "language_info": {
   "codemirror_mode": {
    "name": "ipython",
    "version": 3
   },
   "file_extension": ".py",
   "mimetype": "text/x-python",
   "name": "python",
   "nbconvert_exporter": "python",
   "pygments_lexer": "ipython3",
   "version": "3.7.4"
  }
 },
 "nbformat": 4,
 "nbformat_minor": 2
}
